{
 "cells": [
  {
   "cell_type": "code",
   "execution_count": 1,
   "id": "1677f98a",
   "metadata": {},
   "outputs": [],
   "source": [
    "from commonTools import trakerManager\n",
    "from plotnine import *\n",
    "import datetime\n",
    "import pandas as pd\n",
    "import math\n",
    "from mizani.breaks import date_breaks\n",
    "from mizani.formatters import date_format\n"
   ]
  },
  {
   "cell_type": "markdown",
   "id": "deca3ba0",
   "metadata": {},
   "source": [
    "input your path to data "
   ]
  },
  {
   "cell_type": "code",
   "execution_count": 2,
   "id": "a4793b2b",
   "metadata": {},
   "outputs": [],
   "source": [
    "\n",
    "path_to_data = r'C:\\Users\\eddie\\Documents\\GitHub\\wormLearn\\figures\\test_imgs'\n",
    "#dont touch the model path\n",
    "path_to_model = r'C:\\Users\\eddie\\Documents\\GitHub\\wormLearn\\models\\20-03-19_08-08_retrain\\trained_model.pth'\n",
    "#file type? should be tif\n",
    "# file_type = '.tif'\n",
    "# timestamp_format = r'%M%S'\n",
    "# framerate = 2\n",
    "#why is framerate two?"
   ]
  },
  {
   "cell_type": "markdown",
   "id": "381f6575",
   "metadata": {},
   "source": [
    "dont bother changing the path to the model!"
   ]
  },
  {
   "cell_type": "code",
   "execution_count": null,
   "id": "88a8ef3f",
   "metadata": {},
   "outputs": [],
   "source": [
    "MGMT.easy_group_maker(start=1, total=n_plates, pre='\\\\plate', n=5, post='\\\\')\n",
    "#[f'\\\\plate{i}\\\\' for i in [3,4,5,6,12345]]"
   ]
  },
  {
   "cell_type": "code",
   "execution_count": 3,
   "id": "6f864f8c",
   "metadata": {},
   "outputs": [
    {
     "name": "stdout",
     "output_type": "stream",
     "text": [
      "25 .tif files found in C:\\Users\\eddie\\Documents\\GitHub\\wormLearn\\figures\\test_imgs\\Plate1\\\n",
      "25 .tif files found in C:\\Users\\eddie\\Documents\\GitHub\\wormLearn\\figures\\test_imgs\\Plate2\\\n",
      "25 .tif files found in C:\\Users\\eddie\\Documents\\GitHub\\wormLearn\\figures\\test_imgs\\Plate3\\\n",
      "25 .tif files found in C:\\Users\\eddie\\Documents\\GitHub\\wormLearn\\figures\\test_imgs\\Plate4\\\n",
      "25 .tif files found in C:\\Users\\eddie\\Documents\\GitHub\\wormLearn\\figures\\test_imgs\\Plate5\\\n",
      "25 .tif files found in C:\\Users\\eddie\\Documents\\GitHub\\wormLearn\\figures\\test_imgs\\Plate6\\\n",
      "Set framerate: 2.0 and time_format: %M%S for <commonTools.IO_tools.Imageset object at 0x000001C073D0F220>\n",
      "Set framerate: 2.0 and time_format: %M%S for <commonTools.IO_tools.Imageset object at 0x000001C07EE30A30>\n",
      "Set framerate: 2.0 and time_format: %M%S for <commonTools.IO_tools.Imageset object at 0x000001C07EE30A90>\n",
      "Set framerate: 2.0 and time_format: %M%S for <commonTools.IO_tools.Imageset object at 0x000001C07EE30B20>\n",
      "Set framerate: 2.0 and time_format: %M%S for <commonTools.IO_tools.Imageset object at 0x000001C07EE30BB0>\n",
      "Set framerate: 2.0 and time_format: %M%S for <commonTools.IO_tools.Imageset object at 0x000001C07EE30A00>\n"
     ]
    }
   ],
   "source": [
    "\n",
    "\n",
    "MGMT = trakerManager.InferenceManager(path_to_data, path_to_model)  \n",
    "MGMT.read_data()\n",
    "\n",
    "# n_plates = len(MGMT.experiments)\n",
    "# n_plates = 20\n",
    "# MGMT.calibration_dictionary({2952/49:   MGMT.easy_group_maker(start=1, total=n_plates, pre='\\\\plate', n=5, post='\\\\')[0],  ## rig1\n",
    "#                              69/1:      MGMT.easy_group_maker(start=1, total=n_plates, pre='\\\\plate', n=5, post='\\\\')[1],  ## rig2\n",
    "#                              2225/25.4: MGMT.easy_group_maker(start=1, total=n_plates, pre='\\\\plate', n=5, post='\\\\')[2],  ## rig3\n",
    "#                              2087/25.4: MGMT.easy_group_maker(start=1, total=n_plates, pre='\\\\plate', n=5, post='\\\\')[3],  ## rig4\n",
    "#                              1890/25.4: MGMT.easy_group_maker(start=1, total=n_plates, pre='\\\\plate', n=5, post='\\\\')[4]}) ## rig5\n",
    "\n",
    "\n"
   ]
  },
  {
   "cell_type": "code",
   "execution_count": null,
   "id": "ff51b448",
   "metadata": {},
   "outputs": [],
   "source": [
    "MGMT.experiments[0].framerate"
   ]
  },
  {
   "cell_type": "code",
   "execution_count": null,
   "id": "5e192c8c",
   "metadata": {},
   "outputs": [
    {
     "name": "stdout",
     "output_type": "stream",
     "text": [
      "Loading model...\n",
      "Infering on dataset C:\\Users\\eddie\\Documents\\GitHub\\wormLearn\\figures\\test_imgs\\Plate1\\ ...\n"
     ]
    }
   ],
   "source": [
    "## Infer the worm locations if you hadnt already\n",
    "MGMT.infer_worm_BBoxes(autosave=True)\n",
    "\n"
   ]
  },
  {
   "cell_type": "code",
   "execution_count": null,
   "id": "a16399c1",
   "metadata": {},
   "outputs": [],
   "source": [
    "# MGMT.save_as_PASCAL_VOC()\n",
    "MGMT.organize_inference_results()"
   ]
  },
  {
   "cell_type": "code",
   "execution_count": null,
   "id": "8c592aac",
   "metadata": {},
   "outputs": [],
   "source": [
    "import os\n",
    "import datetime\n",
    "import re"
   ]
  },
  {
   "cell_type": "code",
   "execution_count": null,
   "id": "6c9e6272",
   "metadata": {},
   "outputs": [],
   "source": [
    "ts_fmt = MGMT.experiments[0].time_format\n",
    "ts_regex_str = ts_fmt.replace(r'%d', r'\\d{2}').replace(r'%H', r'\\d{2}').replace(r'%M', r'\\d{2}').replace(r'%S', r'\\d{2}')\n",
    "regex_overlappable = '(?=(' + ts_regex_str + '))'\n",
    "for img, result in MGMT.experiments[0].inference_results.items():\n",
    "    pass\n",
    "filebase = os.path.basename(img).replace('.tif', '')\n",
    "print(filebase)\n",
    "img_N = filebase.split('_')[-1]\n",
    "if not img_N:\n",
    "    img_N = 0\n",
    "name_no_serial = '_'.join(filebase.split('_')[0:-1])\n",
    "print(name_no_serial)\n",
    "timestamp_from_name = re.findall(regex_overlappable, name_no_serial)[-1]\n",
    "tp = datetime.datetime.strptime(timestamp_from_name, ts_fmt).strftime('%d:%H:%M:%S')\n",
    "print(tp)"
   ]
  },
  {
   "cell_type": "code",
   "execution_count": null,
   "id": "37e537e3",
   "metadata": {},
   "outputs": [],
   "source": [
    "MGMT.experiments[0].result_to_timepoint(tp, img_N, img, result, 0.9)"
   ]
  },
  {
   "cell_type": "code",
   "execution_count": null,
   "id": "d8a6793d",
   "metadata": {
    "scrolled": true
   },
   "outputs": [],
   "source": [
    "## or load the inferences if they existed already\n",
    "MGMT.load_inferences_from_xml()"
   ]
  },
  {
   "cell_type": "code",
   "execution_count": null,
   "id": "efea3dd0",
   "metadata": {},
   "outputs": [],
   "source": [
    "MGMT.track_worms(framerate=framerate, missing_frames_forgiven=2, max_mm_per_s=1)"
   ]
  },
  {
   "cell_type": "markdown",
   "id": "2ab80c7b",
   "metadata": {},
   "source": [
    "**speed tracker**"
   ]
  },
  {
   "cell_type": "code",
   "execution_count": null,
   "id": "c9313d9d",
   "metadata": {},
   "outputs": [],
   "source": [
    "MGMT.mean_speeds_by_group( MGMT.easy_group_maker(start=1, total=n_plates, pre='\\\\plate', n=4, post='\\\\'), ['a', 'b', 'c', 'd'], framerate=framerate )\n",
    "\n",
    "\n"
   ]
  },
  {
   "cell_type": "markdown",
   "id": "d03d85b6",
   "metadata": {},
   "source": [
    "**Rose plot dialogue**"
   ]
  },
  {
   "cell_type": "code",
   "execution_count": null,
   "id": "8536b90b",
   "metadata": {
    "scrolled": false
   },
   "outputs": [],
   "source": [
    "#MGMT.experiments[0].timepoints['01:00:00:00'].list_of_worms[0].coords\n",
    "#make first frame 0,0 by subtracting the x and y. do to processive frames to get origin based data\n",
    "#rotional transformation to get real 'rose' plot. \n",
    "\n",
    "MGMT.track_worms_all_experiments.list_of_worms(track_across_timepoints=True) "
   ]
  },
  {
   "cell_type": "markdown",
   "id": "740a19ad",
   "metadata": {},
   "source": [
    "**paralysis analysis**"
   ]
  },
  {
   "cell_type": "code",
   "execution_count": null,
   "id": "6ae0db64",
   "metadata": {},
   "outputs": [],
   "source": [
    "group_names = ['RB','NJ','JCC','N2']\n",
    "\n",
    "# paralysis_by_group, SEM_by_group = \n",
    "aldicarb_results = MGMT.paralysis_by_group(groups= MGMT.easy_group_maker(start=1, total=n_plates, pre='\\\\plate', n=4, post='\\\\'), group_names=group_names, max_mm_movement=0.15)\n",
    "\n",
    "print(aldicarb_results)\n",
    "aldicarb_results.to_csv(path_to_data+'\\\\my_results.csv')"
   ]
  },
  {
   "cell_type": "code",
   "execution_count": null,
   "id": "c347465b",
   "metadata": {},
   "outputs": [],
   "source": [
    "(ggplot(aldicarb_results, aes(x='time', y='mean', color='strain')) +\n",
    "geom_line())"
   ]
  }
 ],
 "metadata": {
  "kernelspec": {
   "display_name": "Python 3 (ipykernel)",
   "language": "python",
   "name": "python3"
  },
  "language_info": {
   "codemirror_mode": {
    "name": "ipython",
    "version": 3
   },
   "file_extension": ".py",
   "mimetype": "text/x-python",
   "name": "python",
   "nbconvert_exporter": "python",
   "pygments_lexer": "ipython3",
   "version": "3.8.12"
  }
 },
 "nbformat": 4,
 "nbformat_minor": 5
}
