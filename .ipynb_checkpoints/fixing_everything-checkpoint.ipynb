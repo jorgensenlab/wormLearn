{
 "cells": [
  {
   "cell_type": "code",
   "execution_count": 2,
   "id": "368babbe",
   "metadata": {},
   "outputs": [],
   "source": [
    "from wormLearn import InferenceManager\n",
    "# from commonTools import trakerManager\n",
    "from plotnine import *\n",
    "import datetime\n",
    "import pandas as pd\n",
    "import math\n",
    "from mizani.breaks import date_breaks\n",
    "from mizani.formatters import date_format\n"
   ]
  },
  {
   "cell_type": "markdown",
   "id": "9bb38ceb",
   "metadata": {},
   "source": [
    "input your path to data\n",
    "### Change the default path to the model in wormLearn/trackerManager.py"
   ]
  },
  {
   "cell_type": "code",
   "execution_count": 3,
   "id": "d7c8c733",
   "metadata": {},
   "outputs": [
    {
     "name": "stdout",
     "output_type": "stream",
     "text": [
      "27 .tif files found in C:\\Users\\eddie\\Documents\\GitHub\\wormLearn\\figures\\test_imgs\\Plate1\\\n",
      "25 .tif files found in C:\\Users\\eddie\\Documents\\GitHub\\wormLearn\\figures\\test_imgs\\Plate2\\\n",
      "25 .tif files found in C:\\Users\\eddie\\Documents\\GitHub\\wormLearn\\figures\\test_imgs\\Plate3\\\n",
      "25 .tif files found in C:\\Users\\eddie\\Documents\\GitHub\\wormLearn\\figures\\test_imgs\\Plate4\\\n",
      "25 .tif files found in C:\\Users\\eddie\\Documents\\GitHub\\wormLearn\\figures\\test_imgs\\Plate5\\\n",
      "25 .tif files found in C:\\Users\\eddie\\Documents\\GitHub\\wormLearn\\figures\\test_imgs\\Plate6\\\n",
      "Set framerate: 2.0 and time_format: %M%S for Imageset at \\Plate1\\\n",
      "Set framerate: 2.0 and time_format: %M%S for Imageset at \\Plate2\\\n",
      "Set framerate: 2.0 and time_format: %M%S for Imageset at \\Plate3\\\n",
      "Set framerate: 2.0 and time_format: %M%S for Imageset at \\Plate4\\\n",
      "Set framerate: 2.0 and time_format: %M%S for Imageset at \\Plate5\\\n",
      "Set framerate: 2.0 and time_format: %M%S for Imageset at \\Plate6\\\n"
     ]
    }
   ],
   "source": [
    "path_to_data = r'C:\\Users\\eddie\\Documents\\GitHub\\wormLearn\\figures\\test_imgs'\n",
    "\n",
    "MGMT = InferenceManager(path_to_data)  "
   ]
  },
  {
   "cell_type": "code",
   "execution_count": 5,
   "id": "bc0e29ec",
   "metadata": {},
   "outputs": [
    {
     "name": "stdout",
     "output_type": "stream",
     "text": [
      "set  \\Plate1\\ as 1.2\n",
      "set  \\Plate6\\ as 1.2\n",
      "set  \\Plate2\\ as 3.4\n",
      "set  \\Plate3\\ as 5.6\n",
      "set  \\Plate4\\ as 7.8\n",
      "set  \\Plate5\\ as 9.0\n"
     ]
    }
   ],
   "source": [
    "max_plate_number = 6\n",
    "n_rigs = 5\n",
    "\n",
    "calibration_groups = MGMT.easy_group_maker(start=1, total=max_plate_number, pre='\\\\Plate', n=n_rigs, post='\\\\')\n",
    "rig_pixelsizes = [\n",
    "                    1.2,\n",
    "                    3.4,\n",
    "                    5.6,\n",
    "                    7.8,\n",
    "                    9.0 \n",
    "                 ]\n",
    "MGMT.set_pixelsize_calibrations(calibration_groups, rig_pixelsizes)\n"
   ]
  },
  {
   "cell_type": "code",
   "execution_count": null,
   "id": "d4dcc3bc",
   "metadata": {
    "scrolled": true
   },
   "outputs": [],
   "source": [
    "## Infer the worm locations if you hadnt already\n",
    "# MGMT.infer_worm_BBoxes(autosave=True)"
   ]
  },
  {
   "cell_type": "code",
   "execution_count": 6,
   "id": "63e53848",
   "metadata": {},
   "outputs": [
    {
     "name": "stdout",
     "output_type": "stream",
     "text": [
      "Organized 27 results into 25 timepoints.\n",
      "Organized 25 results into 25 timepoints.\n",
      "Organized 25 results into 25 timepoints.\n",
      "Organized 25 results into 25 timepoints.\n",
      "Organized 25 results into 25 timepoints.\n",
      "Organized 25 results into 25 timepoints.\n"
     ]
    }
   ],
   "source": [
    "## or load the inferences if they existed already\n",
    "MGMT.load_inferences_from_xml()"
   ]
  },
  {
   "cell_type": "code",
   "execution_count": null,
   "id": "b9c165e1",
   "metadata": {},
   "outputs": [],
   "source": [
    "MGMT.track_worms(missing_frames_forgiven=2, \n",
    "                 max_mm_per_s=1, \n",
    "                 track_across_timepoints=True)\n"
   ]
  },
  {
   "cell_type": "code",
   "execution_count": null,
   "id": "036d671f",
   "metadata": {},
   "outputs": [],
   "source": []
  },
  {
   "cell_type": "code",
   "execution_count": null,
   "id": "dd19d2ef",
   "metadata": {},
   "outputs": [],
   "source": [
    "MGMT.mean_speeds_by_group()\n",
    "\n",
    "# [\n",
    "#             pd.DataFrame({'group':gn, 'experiment':e, 'Nframes':w.N_frames, 'time_tracked':w.time_elapsed})\n",
    "#             for g, gn in zip(MGMT.groups, MGMT.group_names)\n",
    "#                 for e in g\n",
    "#                     for w in MGMT.get_Experiment_by_data_folder(e).list_of_worms\n",
    "#                     if w.N_frames>1\n",
    "#             ]"
   ]
  },
  {
   "cell_type": "markdown",
   "id": "b187cf12",
   "metadata": {},
   "source": [
    "## Speed calculations across timepoints doesnt work right now, but heres the positional data:\n",
    "CoM = center of mass of the worm, ie its x-y position. "
   ]
  },
  {
   "cell_type": "code",
   "execution_count": null,
   "id": "1c481f15",
   "metadata": {},
   "outputs": [],
   "source": [
    "MGMT.all_tracking_as_dataframe()"
   ]
  },
  {
   "cell_type": "markdown",
   "id": "7fa41f9d",
   "metadata": {},
   "source": [
    "**speed tracker**"
   ]
  },
  {
   "cell_type": "code",
   "execution_count": null,
   "id": "a131ab47",
   "metadata": {},
   "outputs": [],
   "source": [
    "MGMT.mean_speeds_by_group( MGMT.easy_group_maker(start=1, total=n_plates, pre='\\\\plate', n=4, post='\\\\'), ['a', 'b', 'c', 'd'])\n",
    "\n",
    "\n"
   ]
  },
  {
   "cell_type": "markdown",
   "id": "8102c009",
   "metadata": {},
   "source": [
    "**Rose plot dialogue**"
   ]
  },
  {
   "cell_type": "code",
   "execution_count": null,
   "id": "6758a549",
   "metadata": {
    "scrolled": false
   },
   "outputs": [],
   "source": [
    "#MGMT.experiments[0].timepoints['01:00:00:00'].list_of_worms[0].coords\n",
    "#make first frame 0,0 by subtracting the x and y. do to processive frames to get origin based data\n",
    "#rotional transformation to get real 'rose' plot. \n",
    "\n",
    "MGMT.track_worms_all_experiments.list_of_worms(track_across_timepoints=True) "
   ]
  },
  {
   "cell_type": "markdown",
   "id": "6f756f9d",
   "metadata": {},
   "source": [
    "**paralysis analysis**"
   ]
  },
  {
   "cell_type": "code",
   "execution_count": null,
   "id": "6d97d72c",
   "metadata": {},
   "outputs": [],
   "source": [
    "group_names = ['RB','NJ','JCC','N2']\n",
    "\n",
    "# paralysis_by_group, SEM_by_group = \n",
    "aldicarb_results = MGMT.paralysis_by_group(groups= MGMT.easy_group_maker(start=1, total=n_plates, pre='\\\\plate', n=4, post='\\\\'), group_names=group_names, max_mm_movement=0.15)\n",
    "\n",
    "print(aldicarb_results)\n",
    "aldicarb_results.to_csv(path_to_data+'\\\\my_results.csv')"
   ]
  },
  {
   "cell_type": "code",
   "execution_count": null,
   "id": "a9afdd78",
   "metadata": {},
   "outputs": [],
   "source": [
    "(ggplot(aldicarb_results, aes(x='time', y='mean', color='strain')) +\n",
    "geom_line())"
   ]
  }
 ],
 "metadata": {
  "kernelspec": {
   "display_name": "Python 3 (ipykernel)",
   "language": "python",
   "name": "python3"
  },
  "language_info": {
   "codemirror_mode": {
    "name": "ipython",
    "version": 3
   },
   "file_extension": ".py",
   "mimetype": "text/x-python",
   "name": "python",
   "nbconvert_exporter": "python",
   "pygments_lexer": "ipython3",
   "version": "3.8.12"
  }
 },
 "nbformat": 4,
 "nbformat_minor": 5
}
