{
 "cells": [
  {
   "cell_type": "code",
   "execution_count": 1,
   "id": "368babbe",
   "metadata": {},
   "outputs": [],
   "source": [
    "from wormLearn import InferenceManager\n",
    "# from commonTools import trakerManager\n",
    "from plotnine import *\n",
    "import datetime\n",
    "import pandas as pd\n",
    "import math\n",
    "from mizani.breaks import date_breaks\n",
    "from mizani.formatters import date_format\n"
   ]
  },
  {
   "cell_type": "markdown",
   "id": "9bb38ceb",
   "metadata": {},
   "source": [
    "input your path to data\n",
    "### Change the default path to the model in wormLearn/trackerManager.py"
   ]
  },
  {
   "cell_type": "code",
   "execution_count": 2,
   "id": "d7c8c733",
   "metadata": {},
   "outputs": [],
   "source": [
    "\n",
    "path_to_data = r'C:\\Users\\eddie\\Documents\\GitHub\\wormLearn\\figures\\test_imgs'\n",
    "\n",
    "\n",
    "# user-defining these is all unncessary now!\n",
    "# path_to_model = r'C:\\Users\\ohbar\\wormLearn\\runs\\20-03-10_17-19_retrain\\trained_model.pth'\n",
    "#file type? should be tif\n",
    "# file_type = '.tif'\n",
    "# timestamp_format = r'%M_%S'\n",
    "# framerate = 0.2\n"
   ]
  },
  {
   "cell_type": "code",
   "execution_count": 3,
   "id": "25c2f8d3",
   "metadata": {},
   "outputs": [],
   "source": [
    "# MGMT.easy_group_maker(start=1, total=n_plates, pre='\\\\Plate', n=1, post='\\\\')\n",
    "#[f'\\\\plate{i}\\\\' for i in [3,4,5,6,12345]]"
   ]
  },
  {
   "cell_type": "code",
   "execution_count": 4,
   "id": "bc0e29ec",
   "metadata": {},
   "outputs": [
    {
     "name": "stdout",
     "output_type": "stream",
     "text": [
      "25 .tif files found in C:\\Users\\eddie\\Documents\\GitHub\\wormLearn\\figures\\test_imgs\\Plate1\\\n",
      "25 .tif files found in C:\\Users\\eddie\\Documents\\GitHub\\wormLearn\\figures\\test_imgs\\Plate2\\\n",
      "25 .tif files found in C:\\Users\\eddie\\Documents\\GitHub\\wormLearn\\figures\\test_imgs\\Plate3\\\n",
      "25 .tif files found in C:\\Users\\eddie\\Documents\\GitHub\\wormLearn\\figures\\test_imgs\\Plate4\\\n",
      "25 .tif files found in C:\\Users\\eddie\\Documents\\GitHub\\wormLearn\\figures\\test_imgs\\Plate5\\\n",
      "25 .tif files found in C:\\Users\\eddie\\Documents\\GitHub\\wormLearn\\figures\\test_imgs\\Plate6\\\n",
      "Set framerate: 2.0 and time_format: %M%S for Imageset at \\Plate1\\\n",
      "Set framerate: 2.0 and time_format: %M%S for Imageset at \\Plate2\\\n",
      "Set framerate: 2.0 and time_format: %M%S for Imageset at \\Plate3\\\n",
      "Set framerate: 2.0 and time_format: %M%S for Imageset at \\Plate4\\\n",
      "Set framerate: 2.0 and time_format: %M%S for Imageset at \\Plate5\\\n",
      "Set framerate: 2.0 and time_format: %M%S for Imageset at \\Plate6\\\n",
      "set  \\Plate1\\ as 102.36220472440945\n",
      "set  \\Plate2\\ as 102.36220472440945\n",
      "set  \\Plate3\\ as 102.36220472440945\n",
      "set  \\Plate4\\ as 102.36220472440945\n",
      "set  \\Plate5\\ as 102.36220472440945\n",
      "set  \\Plate6\\ as 102.36220472440945\n"
     ]
    }
   ],
   "source": [
    "\n",
    "\n",
    "MGMT = InferenceManager(path_to_data)  \n",
    "MGMT.read_data()\n",
    "\n",
    "n_plates = len(MGMT.experiments)\n",
    "n_plates = 6\n",
    "MGMT.calibration_dictionary({2600/25.4:  MGMT.easy_group_maker(start=1, total=n_plates, pre='\\\\Plate', n=1, post='\\\\')[0]})  ## rig1\n",
    "                            # 260/25.4:      MGMT.easy_group_maker(start=1, total=n_plates, pre='\\\\Plate', n=6, post='\\\\')[1],  ## rig2\n",
    "                            # 260/25.4: MGMT.easy_group_maker(start=1, total=n_plates, pre='\\\\Plate', n=6, post='\\\\')[2],  ## rig3\n",
    "                            # 260/25.4: MGMT.easy_group_maker(start=1, total=n_plates, pre='\\\\Plate', n=6, post='\\\\')[3],  ## rig4\n",
    "                            # 260/25.4: MGMT.easy_group_maker(start=1, total=n_plates, pre='\\\\Plate', n=6, post='\\\\')[4], ## rig5\n",
    "                            #  260/25.4: MGMT.easy_group_maker(start=1, total=n_plates, pre='\\\\Plate', n=6, post='\\\\')[5]}) ## rig6\n",
    "\n",
    "\n"
   ]
  },
  {
   "cell_type": "code",
   "execution_count": 5,
   "id": "d4dcc3bc",
   "metadata": {
    "scrolled": true
   },
   "outputs": [],
   "source": [
    "## Infer the worm locations if you hadnt already\n",
    "MGMT.infer_worm_BBoxes(autosave=True)"
   ]
  },
  {
   "cell_type": "code",
   "execution_count": 6,
   "id": "63e53848",
   "metadata": {},
   "outputs": [
    {
     "name": "stdout",
     "output_type": "stream",
     "text": [
      "Organized 25 results into 25 timepoints.\n",
      "Organized 25 results into 25 timepoints.\n",
      "Organized 25 results into 25 timepoints.\n",
      "Organized 25 results into 25 timepoints.\n",
      "Organized 25 results into 25 timepoints.\n",
      "Organized 25 results into 25 timepoints.\n"
     ]
    }
   ],
   "source": [
    "## or load the inferences if they existed already\n",
    "MGMT.load_inferences_from_xml()"
   ]
  },
  {
   "cell_type": "code",
   "execution_count": 7,
   "id": "b9c165e1",
   "metadata": {},
   "outputs": [
    {
     "name": "stdout",
     "output_type": "stream",
     "text": [
      "\\Plate1\\\n",
      "Tracking across timepoints with 5.0 s between each\n",
      "\\Plate2\\\n",
      "Tracking across timepoints with 5.0 s between each\n",
      "\\Plate3\\\n",
      "Tracking across timepoints with 5.0 s between each\n",
      "\\Plate4\\\n",
      "Tracking across timepoints with 5.0 s between each\n",
      "\\Plate5\\\n",
      "Tracking across timepoints with 5.0 s between each\n",
      "\\Plate6\\\n",
      "Tracking across timepoints with 5.0 s between each\n"
     ]
    }
   ],
   "source": [
    "MGMT.track_worms(missing_frames_forgiven=2, max_mm_per_s=1, track_across_timepoints=True)\n"
   ]
  },
  {
   "cell_type": "markdown",
   "id": "0bdd74f7",
   "metadata": {},
   "source": [
    "## Speed calculations across timepoints doesnt work right now, but heres the positional data:\n",
    "CoM = center of mass of the worm, ie its x-y position. "
   ]
  },
  {
   "cell_type": "code",
   "execution_count": 8,
   "id": "1c481f15",
   "metadata": {},
   "outputs": [
    {
     "data": {
      "text/html": [
       "<div>\n",
       "<style scoped>\n",
       "    .dataframe tbody tr th:only-of-type {\n",
       "        vertical-align: middle;\n",
       "    }\n",
       "\n",
       "    .dataframe tbody tr th {\n",
       "        vertical-align: top;\n",
       "    }\n",
       "\n",
       "    .dataframe thead th {\n",
       "        text-align: right;\n",
       "    }\n",
       "</style>\n",
       "<table border=\"1\" class=\"dataframe\">\n",
       "  <thead>\n",
       "    <tr style=\"text-align: right;\">\n",
       "      <th></th>\n",
       "      <th>boxes</th>\n",
       "      <th>labels</th>\n",
       "      <th>scores</th>\n",
       "      <th>wormID</th>\n",
       "      <th>CoM</th>\n",
       "      <th>Frame</th>\n",
       "      <th>timestamp</th>\n",
       "      <th>experiment</th>\n",
       "    </tr>\n",
       "  </thead>\n",
       "  <tbody>\n",
       "    <tr>\n",
       "      <th>0</th>\n",
       "      <td>[1500. 1101. 1562. 1153.]</td>\n",
       "      <td>1</td>\n",
       "      <td>0.999965</td>\n",
       "      <td>0</td>\n",
       "      <td>[1529.5054 1125.439 ]</td>\n",
       "      <td>0.0</td>\n",
       "      <td>01:00:00:00</td>\n",
       "      <td>\\Plate1\\</td>\n",
       "    </tr>\n",
       "    <tr>\n",
       "      <th>1</th>\n",
       "      <td>[1032. 1114. 1093. 1167.]</td>\n",
       "      <td>1</td>\n",
       "      <td>0.999874</td>\n",
       "      <td>1</td>\n",
       "      <td>[1063.287  1138.9471]</td>\n",
       "      <td>0.0</td>\n",
       "      <td>01:00:00:00</td>\n",
       "      <td>\\Plate1\\</td>\n",
       "    </tr>\n",
       "    <tr>\n",
       "      <th>2</th>\n",
       "      <td>[1138.  771. 1193.  832.]</td>\n",
       "      <td>1</td>\n",
       "      <td>0.999781</td>\n",
       "      <td>2</td>\n",
       "      <td>[1165.3314  801.2952]</td>\n",
       "      <td>0.0</td>\n",
       "      <td>01:00:00:00</td>\n",
       "      <td>\\Plate1\\</td>\n",
       "    </tr>\n",
       "    <tr>\n",
       "      <th>3</th>\n",
       "      <td>[1069.  741. 1126.  793.]</td>\n",
       "      <td>1</td>\n",
       "      <td>0.999468</td>\n",
       "      <td>3</td>\n",
       "      <td>[1097.8899  766.2567]</td>\n",
       "      <td>0.0</td>\n",
       "      <td>01:00:00:00</td>\n",
       "      <td>\\Plate1\\</td>\n",
       "    </tr>\n",
       "    <tr>\n",
       "      <th>4</th>\n",
       "      <td>[ 994.  711. 1037.  780.]</td>\n",
       "      <td>1</td>\n",
       "      <td>0.996237</td>\n",
       "      <td>4</td>\n",
       "      <td>[1015.4077  744.3758]</td>\n",
       "      <td>0.0</td>\n",
       "      <td>01:00:00:00</td>\n",
       "      <td>\\Plate1\\</td>\n",
       "    </tr>\n",
       "    <tr>\n",
       "      <th>...</th>\n",
       "      <td>...</td>\n",
       "      <td>...</td>\n",
       "      <td>...</td>\n",
       "      <td>...</td>\n",
       "      <td>...</td>\n",
       "      <td>...</td>\n",
       "      <td>...</td>\n",
       "      <td>...</td>\n",
       "    </tr>\n",
       "    <tr>\n",
       "      <th>5</th>\n",
       "      <td>[1288.  354. 1327.  394.]</td>\n",
       "      <td>1</td>\n",
       "      <td>0.988505</td>\n",
       "      <td>2</td>\n",
       "      <td>[1306.2764   373.56888]</td>\n",
       "      <td>0.0</td>\n",
       "      <td>01:00:02:00</td>\n",
       "      <td>\\Plate6\\</td>\n",
       "    </tr>\n",
       "    <tr>\n",
       "      <th>6</th>\n",
       "      <td>[1173. 1332. 1215. 1372.]</td>\n",
       "      <td>1</td>\n",
       "      <td>0.973375</td>\n",
       "      <td>4</td>\n",
       "      <td>[1193.6526 1350.9739]</td>\n",
       "      <td>0.0</td>\n",
       "      <td>01:00:02:00</td>\n",
       "      <td>\\Plate6\\</td>\n",
       "    </tr>\n",
       "    <tr>\n",
       "      <th>7</th>\n",
       "      <td>[ 896. 1470.  944. 1525.]</td>\n",
       "      <td>1</td>\n",
       "      <td>0.970407</td>\n",
       "      <td>8</td>\n",
       "      <td>[ 917.3382 1498.4602]</td>\n",
       "      <td>0.0</td>\n",
       "      <td>01:00:02:00</td>\n",
       "      <td>\\Plate6\\</td>\n",
       "    </tr>\n",
       "    <tr>\n",
       "      <th>8</th>\n",
       "      <td>[1201. 1374. 1240. 1414.]</td>\n",
       "      <td>1</td>\n",
       "      <td>0.965515</td>\n",
       "      <td>13</td>\n",
       "      <td>[1220.1199 1393.3293]</td>\n",
       "      <td>0.0</td>\n",
       "      <td>01:00:02:00</td>\n",
       "      <td>\\Plate6\\</td>\n",
       "    </tr>\n",
       "    <tr>\n",
       "      <th>9</th>\n",
       "      <td>[1482. 1304. 1539. 1365.]</td>\n",
       "      <td>1</td>\n",
       "      <td>0.948131</td>\n",
       "      <td>5</td>\n",
       "      <td>[1509.7302 1330.9543]</td>\n",
       "      <td>0.0</td>\n",
       "      <td>01:00:02:00</td>\n",
       "      <td>\\Plate6\\</td>\n",
       "    </tr>\n",
       "  </tbody>\n",
       "</table>\n",
       "<p>1175 rows × 8 columns</p>\n",
       "</div>"
      ],
      "text/plain": [
       "                        boxes  labels    scores  wormID  \\\n",
       "0   [1500. 1101. 1562. 1153.]       1  0.999965       0   \n",
       "1   [1032. 1114. 1093. 1167.]       1  0.999874       1   \n",
       "2   [1138.  771. 1193.  832.]       1  0.999781       2   \n",
       "3   [1069.  741. 1126.  793.]       1  0.999468       3   \n",
       "4   [ 994.  711. 1037.  780.]       1  0.996237       4   \n",
       "..                        ...     ...       ...     ...   \n",
       "5   [1288.  354. 1327.  394.]       1  0.988505       2   \n",
       "6   [1173. 1332. 1215. 1372.]       1  0.973375       4   \n",
       "7   [ 896. 1470.  944. 1525.]       1  0.970407       8   \n",
       "8   [1201. 1374. 1240. 1414.]       1  0.965515      13   \n",
       "9   [1482. 1304. 1539. 1365.]       1  0.948131       5   \n",
       "\n",
       "                        CoM  Frame    timestamp experiment  \n",
       "0     [1529.5054 1125.439 ]    0.0  01:00:00:00   \\Plate1\\  \n",
       "1     [1063.287  1138.9471]    0.0  01:00:00:00   \\Plate1\\  \n",
       "2     [1165.3314  801.2952]    0.0  01:00:00:00   \\Plate1\\  \n",
       "3     [1097.8899  766.2567]    0.0  01:00:00:00   \\Plate1\\  \n",
       "4     [1015.4077  744.3758]    0.0  01:00:00:00   \\Plate1\\  \n",
       "..                      ...    ...          ...        ...  \n",
       "5   [1306.2764   373.56888]    0.0  01:00:02:00   \\Plate6\\  \n",
       "6     [1193.6526 1350.9739]    0.0  01:00:02:00   \\Plate6\\  \n",
       "7     [ 917.3382 1498.4602]    0.0  01:00:02:00   \\Plate6\\  \n",
       "8     [1220.1199 1393.3293]    0.0  01:00:02:00   \\Plate6\\  \n",
       "9     [1509.7302 1330.9543]    0.0  01:00:02:00   \\Plate6\\  \n",
       "\n",
       "[1175 rows x 8 columns]"
      ]
     },
     "execution_count": 8,
     "metadata": {},
     "output_type": "execute_result"
    }
   ],
   "source": [
    "MGMT.all_tracking_as_dataframe()"
   ]
  },
  {
   "cell_type": "markdown",
   "id": "7fa41f9d",
   "metadata": {},
   "source": [
    "**speed tracker**"
   ]
  },
  {
   "cell_type": "code",
   "execution_count": null,
   "id": "a131ab47",
   "metadata": {},
   "outputs": [],
   "source": [
    "MGMT.mean_speeds_by_group( MGMT.easy_group_maker(start=1, total=n_plates, pre='\\\\plate', n=4, post='\\\\'), ['a', 'b', 'c', 'd'])\n",
    "\n",
    "\n"
   ]
  },
  {
   "cell_type": "markdown",
   "id": "8102c009",
   "metadata": {},
   "source": [
    "**Rose plot dialogue**"
   ]
  },
  {
   "cell_type": "code",
   "execution_count": null,
   "id": "6758a549",
   "metadata": {
    "scrolled": false
   },
   "outputs": [],
   "source": [
    "#MGMT.experiments[0].timepoints['01:00:00:00'].list_of_worms[0].coords\n",
    "#make first frame 0,0 by subtracting the x and y. do to processive frames to get origin based data\n",
    "#rotional transformation to get real 'rose' plot. \n",
    "\n",
    "MGMT.track_worms_all_experiments.list_of_worms(track_across_timepoints=True) "
   ]
  },
  {
   "cell_type": "markdown",
   "id": "6f756f9d",
   "metadata": {},
   "source": [
    "**paralysis analysis**"
   ]
  },
  {
   "cell_type": "code",
   "execution_count": null,
   "id": "6d97d72c",
   "metadata": {},
   "outputs": [],
   "source": [
    "group_names = ['RB','NJ','JCC','N2']\n",
    "\n",
    "# paralysis_by_group, SEM_by_group = \n",
    "aldicarb_results = MGMT.paralysis_by_group(groups= MGMT.easy_group_maker(start=1, total=n_plates, pre='\\\\plate', n=4, post='\\\\'), group_names=group_names, max_mm_movement=0.15)\n",
    "\n",
    "print(aldicarb_results)\n",
    "aldicarb_results.to_csv(path_to_data+'\\\\my_results.csv')"
   ]
  },
  {
   "cell_type": "code",
   "execution_count": null,
   "id": "a9afdd78",
   "metadata": {},
   "outputs": [],
   "source": [
    "(ggplot(aldicarb_results, aes(x='time', y='mean', color='strain')) +\n",
    "geom_line())"
   ]
  }
 ],
 "metadata": {
  "kernelspec": {
   "display_name": "Python 3 (ipykernel)",
   "language": "python",
   "name": "python3"
  },
  "language_info": {
   "codemirror_mode": {
    "name": "ipython",
    "version": 3
   },
   "file_extension": ".py",
   "mimetype": "text/x-python",
   "name": "python",
   "nbconvert_exporter": "python",
   "pygments_lexer": "ipython3",
   "version": "3.8.12"
  }
 },
 "nbformat": 4,
 "nbformat_minor": 5
}
