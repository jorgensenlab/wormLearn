{
 "cells": [
  {
   "cell_type": "code",
   "execution_count": 1,
   "id": "368babbe",
   "metadata": {},
   "outputs": [],
   "source": [
    "from wormLearn import InferenceManager\n",
    "# from commonTools import trakerManager\n",
    "from plotnine import *\n",
    "import datetime\n",
    "import pandas as pd\n",
    "import math\n",
    "from mizani.breaks import date_breaks\n",
    "from mizani.formatters import date_format\n"
   ]
  },
  {
   "cell_type": "markdown",
   "id": "9bb38ceb",
   "metadata": {},
   "source": [
    "input your path to data "
   ]
  },
  {
   "cell_type": "code",
   "execution_count": 2,
   "id": "d7c8c733",
   "metadata": {},
   "outputs": [],
   "source": [
    "\n",
    "path_to_data = r'C:\\Users\\eddie\\Documents\\GitHub\\wormLearn\\figures\\test_imgs'\n",
    "#dont touch the model path\n",
    "# path_to_model = r'C:\\Users\\ohbar\\wormLearn\\runs\\20-03-10_17-19_retrain\\trained_model.pth'\n",
    "#file type? should be tif\n",
    "# file_type = '.tif'\n",
    "# timestamp_format = r'%M_%S'\n",
    "# framerate = 0.2\n",
    "#why is framerate two?"
   ]
  },
  {
   "cell_type": "markdown",
   "id": "0b743333",
   "metadata": {},
   "source": [
    "dont bother changing the path to the model!"
   ]
  },
  {
   "cell_type": "code",
   "execution_count": null,
   "id": "25c2f8d3",
   "metadata": {},
   "outputs": [],
   "source": [
    "MGMT.easy_group_maker(start=1, total=n_plates, pre='\\\\Plate', n=1, post='\\\\')\n",
    "#[f'\\\\plate{i}\\\\' for i in [3,4,5,6,12345]]"
   ]
  },
  {
   "cell_type": "code",
   "execution_count": 4,
   "id": "bc0e29ec",
   "metadata": {},
   "outputs": [
    {
     "name": "stdout",
     "output_type": "stream",
     "text": [
      "25 .tif files found in C:\\Users\\eddie\\Documents\\GitHub\\wormLearn\\figures\\test_imgs\\Plate1\\\n",
      "25 .tif files found in C:\\Users\\eddie\\Documents\\GitHub\\wormLearn\\figures\\test_imgs\\Plate2\\\n",
      "25 .tif files found in C:\\Users\\eddie\\Documents\\GitHub\\wormLearn\\figures\\test_imgs\\Plate3\\\n",
      "25 .tif files found in C:\\Users\\eddie\\Documents\\GitHub\\wormLearn\\figures\\test_imgs\\Plate4\\\n",
      "25 .tif files found in C:\\Users\\eddie\\Documents\\GitHub\\wormLearn\\figures\\test_imgs\\Plate5\\\n",
      "25 .tif files found in C:\\Users\\eddie\\Documents\\GitHub\\wormLearn\\figures\\test_imgs\\Plate6\\\n",
      "Counted 6 plates.\n",
      "set  \\Plate1\\ as 102.36220472440945\n",
      "set  \\Plate2\\ as 102.36220472440945\n",
      "set  \\Plate3\\ as 102.36220472440945\n",
      "set  \\Plate4\\ as 102.36220472440945\n",
      "set  \\Plate5\\ as 102.36220472440945\n",
      "set  \\Plate6\\ as 102.36220472440945\n"
     ]
    }
   ],
   "source": [
    "\n",
    "\n",
    "MGMT = InferenceManager(path_to_data)  \n",
    "MGMT.read_data()\n",
    "\n",
    "n_plates = len(MGMT.experiments)\n",
    "n_plates = 6\n",
    "MGMT.calibration_dictionary({2600/25.4:  MGMT.easy_group_maker(start=1, total=n_plates, pre='\\\\Plate', n=1, post='\\\\')[0]})  ## rig1\n",
    "                            # 260/25.4:      MGMT.easy_group_maker(start=1, total=n_plates, pre='\\\\Plate', n=6, post='\\\\')[1],  ## rig2\n",
    "                            # 260/25.4: MGMT.easy_group_maker(start=1, total=n_plates, pre='\\\\Plate', n=6, post='\\\\')[2],  ## rig3\n",
    "                            # 260/25.4: MGMT.easy_group_maker(start=1, total=n_plates, pre='\\\\Plate', n=6, post='\\\\')[3],  ## rig4\n",
    "                            # 260/25.4: MGMT.easy_group_maker(start=1, total=n_plates, pre='\\\\Plate', n=6, post='\\\\')[4], ## rig5\n",
    "                            #  260/25.4: MGMT.easy_group_maker(start=1, total=n_plates, pre='\\\\Plate', n=6, post='\\\\')[5]}) ## rig6\n",
    "\n",
    "\n"
   ]
  },
  {
   "cell_type": "code",
   "execution_count": null,
   "id": "d4dcc3bc",
   "metadata": {
    "scrolled": true
   },
   "outputs": [],
   "source": [
    "## Infer the worm locations if you hadnt already\n",
    "MGMT.infer_worm_BBoxes()\n",
    "MGMT.save_as_PASCAL_VOC()"
   ]
  },
  {
   "cell_type": "code",
   "execution_count": null,
   "id": "63e53848",
   "metadata": {},
   "outputs": [],
   "source": [
    "## or load the inferences if they existed already\n",
    "MGMT.load_inferences_from_xml()"
   ]
  },
  {
   "cell_type": "code",
   "execution_count": null,
   "id": "b9c165e1",
   "metadata": {},
   "outputs": [],
   "source": [
    "MGMT.track_worms(framerate=framerate, missing_frames_forgiven=2, max_mm_per_s=1)"
   ]
  },
  {
   "cell_type": "markdown",
   "id": "7fa41f9d",
   "metadata": {},
   "source": [
    "**speed tracker**"
   ]
  },
  {
   "cell_type": "code",
   "execution_count": null,
   "id": "a131ab47",
   "metadata": {},
   "outputs": [],
   "source": [
    "MGMT.mean_speeds_by_group( MGMT.easy_group_maker(start=1, total=n_plates, pre='\\\\plate', n=4, post='\\\\'), ['a', 'b', 'c', 'd'], framerate=framerate )\n",
    "\n",
    "\n"
   ]
  },
  {
   "cell_type": "markdown",
   "id": "8102c009",
   "metadata": {},
   "source": [
    "**Rose plot dialogue**"
   ]
  },
  {
   "cell_type": "code",
   "execution_count": null,
   "id": "6758a549",
   "metadata": {
    "scrolled": false
   },
   "outputs": [],
   "source": [
    "#MGMT.experiments[0].timepoints['01:00:00:00'].list_of_worms[0].coords\n",
    "#make first frame 0,0 by subtracting the x and y. do to processive frames to get origin based data\n",
    "#rotional transformation to get real 'rose' plot. \n",
    "\n",
    "MGMT.track_worms_all_experiments.list_of_worms(track_across_timepoints=True) "
   ]
  },
  {
   "cell_type": "markdown",
   "id": "6f756f9d",
   "metadata": {},
   "source": [
    "**paralysis analysis**"
   ]
  },
  {
   "cell_type": "code",
   "execution_count": null,
   "id": "6d97d72c",
   "metadata": {},
   "outputs": [],
   "source": [
    "group_names = ['RB','NJ','JCC','N2']\n",
    "\n",
    "# paralysis_by_group, SEM_by_group = \n",
    "aldicarb_results = MGMT.paralysis_by_group(groups= MGMT.easy_group_maker(start=1, total=n_plates, pre='\\\\plate', n=4, post='\\\\'), group_names=group_names, max_mm_movement=0.15)\n",
    "\n",
    "print(aldicarb_results)\n",
    "aldicarb_results.to_csv(path_to_data+'\\\\my_results.csv')"
   ]
  },
  {
   "cell_type": "code",
   "execution_count": null,
   "id": "a9afdd78",
   "metadata": {},
   "outputs": [],
   "source": [
    "(ggplot(aldicarb_results, aes(x='time', y='mean', color='strain')) +\n",
    "geom_line())"
   ]
  }
 ],
 "metadata": {
  "kernelspec": {
   "display_name": "Python 3 (ipykernel)",
   "language": "python",
   "name": "python3"
  },
  "language_info": {
   "codemirror_mode": {
    "name": "ipython",
    "version": 3
   },
   "file_extension": ".py",
   "mimetype": "text/x-python",
   "name": "python",
   "nbconvert_exporter": "python",
   "pygments_lexer": "ipython3",
   "version": "3.8.12"
  }
 },
 "nbformat": 4,
 "nbformat_minor": 5
}
