{
 "cells": [
  {
   "cell_type": "code",
   "execution_count": 1,
   "id": "368babbe",
   "metadata": {},
   "outputs": [],
   "source": [
    "from wormLearn import InferenceManager, Grouper\n",
    "# from commonTools import trakerManager\n",
    "from plotnine import *\n",
    "import datetime\n",
    "import pandas as pd\n",
    "import math\n",
    "from mizani.breaks import date_breaks\n",
    "from mizani.formatters import date_format\n"
   ]
  },
  {
   "cell_type": "markdown",
   "id": "9bb38ceb",
   "metadata": {},
   "source": [
    "input your path to data\n",
    "### Change the default path to the model in wormLearn/trackerManager.py"
   ]
  },
  {
   "cell_type": "code",
   "execution_count": 2,
   "id": "d7c8c733",
   "metadata": {},
   "outputs": [
    {
     "name": "stdout",
     "output_type": "stream",
     "text": [
      "27 .tif files found in C:\\Users\\eddie\\Documents\\GitHub\\wormLearn\\figures\\test_imgs\\Plate1\\\n",
      "25 .tif files found in C:\\Users\\eddie\\Documents\\GitHub\\wormLearn\\figures\\test_imgs\\Plate2\\\n",
      "25 .tif files found in C:\\Users\\eddie\\Documents\\GitHub\\wormLearn\\figures\\test_imgs\\Plate3\\\n",
      "25 .tif files found in C:\\Users\\eddie\\Documents\\GitHub\\wormLearn\\figures\\test_imgs\\Plate4\\\n",
      "25 .tif files found in C:\\Users\\eddie\\Documents\\GitHub\\wormLearn\\figures\\test_imgs\\Plate5\\\n",
      "25 .tif files found in C:\\Users\\eddie\\Documents\\GitHub\\wormLearn\\figures\\test_imgs\\Plate6\\\n",
      "Set framerate: 2.0 and time_format: %M%S for Imageset at \\Plate1\\\n",
      "Set framerate: 2.0 and time_format: %M%S for Imageset at \\Plate2\\\n",
      "Set framerate: 2.0 and time_format: %M%S for Imageset at \\Plate3\\\n",
      "Set framerate: 2.0 and time_format: %M%S for Imageset at \\Plate4\\\n",
      "Set framerate: 2.0 and time_format: %M%S for Imageset at \\Plate5\\\n",
      "Set framerate: 2.0 and time_format: %M%S for Imageset at \\Plate6\\\n"
     ]
    }
   ],
   "source": [
    "path_to_data = r'C:\\Users\\eddie\\Documents\\GitHub\\wormLearn\\figures\\test_imgs'\n",
    "\n",
    "MGMT = InferenceManager(path_to_data)"
   ]
  },
  {
   "cell_type": "code",
   "execution_count": 3,
   "id": "bc0e29ec",
   "metadata": {},
   "outputs": [
    {
     "name": "stdout",
     "output_type": "stream",
     "text": [
      "set  \\Plate1\\ as 1.2\n",
      "set  \\Plate6\\ as 1.2\n",
      "set  \\Plate2\\ as 3.4\n",
      "set  \\Plate3\\ as 5.6\n",
      "set  \\Plate4\\ as 7.8\n",
      "set  \\Plate5\\ as 9.0\n"
     ]
    }
   ],
   "source": [
    "max_plate_number = 6\n",
    "n_rigs = 5\n",
    "grouper = Grouper(start=1, total=max_plate_number, pre='\\\\Plate', post='\\\\')\n",
    "\n",
    "calibration_groups = grouper.n_groups(n_rigs)\n",
    "rig_pixelsizes = [\n",
    "                    1.2,\n",
    "                    3.4,\n",
    "                    5.6,\n",
    "                    7.8,\n",
    "                    9.0 \n",
    "                 ]\n",
    "MGMT.set_pixelsize_calibrations(calibration_groups, rig_pixelsizes)\n"
   ]
  },
  {
   "cell_type": "code",
   "execution_count": 4,
   "id": "d4dcc3bc",
   "metadata": {
    "scrolled": true
   },
   "outputs": [],
   "source": [
    "## Infer the worm locations if you hadnt already\n",
    "# MGMT.infer_worm_BBoxes(autosave=True)"
   ]
  },
  {
   "cell_type": "code",
   "execution_count": 5,
   "id": "63e53848",
   "metadata": {},
   "outputs": [
    {
     "name": "stdout",
     "output_type": "stream",
     "text": [
      "Organized 27 results into 25 timepoints.\n",
      "Organized 25 results into 25 timepoints.\n",
      "Organized 25 results into 25 timepoints.\n",
      "Organized 25 results into 25 timepoints.\n",
      "Organized 25 results into 25 timepoints.\n",
      "Organized 25 results into 25 timepoints.\n"
     ]
    }
   ],
   "source": [
    "## or load the inferences if they existed already\n",
    "MGMT.load_inferences_from_xml()"
   ]
  },
  {
   "cell_type": "code",
   "execution_count": 6,
   "id": "b9c165e1",
   "metadata": {},
   "outputs": [
    {
     "name": "stdout",
     "output_type": "stream",
     "text": [
      "\\Plate1\\\n",
      "Tracking across timepoints with non-uniform timesteps. Are you missing timepoints, or are you tracking across and within timepoints? [0.5, 0.5, 5.0, 5.0, 5.0, 5.0, 5.0, 5.0, 5.0, 5.0, 5.0, 5.0, 5.0, 5.0, 5.0, 5.0, 5.0, 5.0, 5.0, 5.0, 5.0, 5.0, 5.0, 5.0, 5.0, 5.0, None]\n",
      "\\Plate2\\\n",
      "Tracking across timepoints with 5.0 s between each\n",
      "\\Plate3\\\n",
      "Tracking across timepoints with 5.0 s between each\n",
      "\\Plate4\\\n",
      "Tracking across timepoints with 5.0 s between each\n",
      "\\Plate5\\\n",
      "Tracking across timepoints with 5.0 s between each\n",
      "\\Plate6\\\n",
      "Tracking across timepoints with 5.0 s between each\n"
     ]
    }
   ],
   "source": [
    "MGMT.track_worms(missing_frames_forgiven=2, \n",
    "                 max_mm_per_s=1, \n",
    "                 track_across_timepoints=True)\n"
   ]
  },
  {
   "cell_type": "code",
   "execution_count": 7,
   "id": "dd19d2ef",
   "metadata": {},
   "outputs": [
    {
     "data": {
      "text/html": [
       "<div>\n",
       "<style scoped>\n",
       "    .dataframe tbody tr th:only-of-type {\n",
       "        vertical-align: middle;\n",
       "    }\n",
       "\n",
       "    .dataframe tbody tr th {\n",
       "        vertical-align: top;\n",
       "    }\n",
       "\n",
       "    .dataframe thead th {\n",
       "        text-align: right;\n",
       "    }\n",
       "</style>\n",
       "<table border=\"1\" class=\"dataframe\">\n",
       "  <thead>\n",
       "    <tr style=\"text-align: right;\">\n",
       "      <th></th>\n",
       "      <th>mean_speed</th>\n",
       "      <th>SEM</th>\n",
       "      <th>N</th>\n",
       "    </tr>\n",
       "    <tr>\n",
       "      <th>group</th>\n",
       "      <th></th>\n",
       "      <th></th>\n",
       "      <th></th>\n",
       "    </tr>\n",
       "  </thead>\n",
       "  <tbody>\n",
       "    <tr>\n",
       "      <th>\\Plate1\\</th>\n",
       "      <td>0.002619</td>\n",
       "      <td>0.000682</td>\n",
       "      <td>1.413223</td>\n",
       "    </tr>\n",
       "    <tr>\n",
       "      <th>\\Plate2\\</th>\n",
       "      <td>0.004100</td>\n",
       "      <td>0.000657</td>\n",
       "      <td>5.916667</td>\n",
       "    </tr>\n",
       "    <tr>\n",
       "      <th>\\Plate3\\</th>\n",
       "      <td>0.006281</td>\n",
       "      <td>0.001551</td>\n",
       "      <td>4.416667</td>\n",
       "    </tr>\n",
       "    <tr>\n",
       "      <th>\\Plate4\\</th>\n",
       "      <td>0.006975</td>\n",
       "      <td>0.002819</td>\n",
       "      <td>3.250000</td>\n",
       "    </tr>\n",
       "    <tr>\n",
       "      <th>\\Plate5\\</th>\n",
       "      <td>0.017047</td>\n",
       "      <td>0.006028</td>\n",
       "      <td>4.750000</td>\n",
       "    </tr>\n",
       "    <tr>\n",
       "      <th>\\Plate6\\</th>\n",
       "      <td>0.003122</td>\n",
       "      <td>0.000233</td>\n",
       "      <td>8.416667</td>\n",
       "    </tr>\n",
       "  </tbody>\n",
       "</table>\n",
       "</div>"
      ],
      "text/plain": [
       "          mean_speed       SEM         N\n",
       "group                                   \n",
       "\\Plate1\\    0.002619  0.000682  1.413223\n",
       "\\Plate2\\    0.004100  0.000657  5.916667\n",
       "\\Plate3\\    0.006281  0.001551  4.416667\n",
       "\\Plate4\\    0.006975  0.002819  3.250000\n",
       "\\Plate5\\    0.017047  0.006028  4.750000\n",
       "\\Plate6\\    0.003122  0.000233  8.416667"
      ]
     },
     "execution_count": 7,
     "metadata": {},
     "output_type": "execute_result"
    }
   ],
   "source": [
    "# If you supply no groups, each plate is seperate. Useful for identifying problems.\n",
    "MGMT.mean_speeds_by_group(min_frames=2)"
   ]
  },
  {
   "cell_type": "markdown",
   "id": "7fa41f9d",
   "metadata": {},
   "source": [
    "**speed tracker**"
   ]
  },
  {
   "cell_type": "code",
   "execution_count": 8,
   "id": "a131ab47",
   "metadata": {},
   "outputs": [
    {
     "data": {
      "text/html": [
       "<div>\n",
       "<style scoped>\n",
       "    .dataframe tbody tr th:only-of-type {\n",
       "        vertical-align: middle;\n",
       "    }\n",
       "\n",
       "    .dataframe tbody tr th {\n",
       "        vertical-align: top;\n",
       "    }\n",
       "\n",
       "    .dataframe thead th {\n",
       "        text-align: right;\n",
       "    }\n",
       "</style>\n",
       "<table border=\"1\" class=\"dataframe\">\n",
       "  <thead>\n",
       "    <tr style=\"text-align: right;\">\n",
       "      <th></th>\n",
       "      <th>mean_speed</th>\n",
       "      <th>SEM</th>\n",
       "      <th>N</th>\n",
       "    </tr>\n",
       "    <tr>\n",
       "      <th>group</th>\n",
       "      <th></th>\n",
       "      <th></th>\n",
       "      <th></th>\n",
       "    </tr>\n",
       "  </thead>\n",
       "  <tbody>\n",
       "    <tr>\n",
       "      <th>cats</th>\n",
       "      <td>0.005647</td>\n",
       "      <td>0.002182</td>\n",
       "      <td>4.663223</td>\n",
       "    </tr>\n",
       "    <tr>\n",
       "      <th>dogs</th>\n",
       "      <td>0.009865</td>\n",
       "      <td>0.003350</td>\n",
       "      <td>10.666667</td>\n",
       "    </tr>\n",
       "    <tr>\n",
       "      <th>fish</th>\n",
       "      <td>0.004209</td>\n",
       "      <td>0.000696</td>\n",
       "      <td>12.833333</td>\n",
       "    </tr>\n",
       "  </tbody>\n",
       "</table>\n",
       "</div>"
      ],
      "text/plain": [
       "       mean_speed       SEM          N\n",
       "group                                 \n",
       "cats     0.005647  0.002182   4.663223\n",
       "dogs     0.009865  0.003350  10.666667\n",
       "fish     0.004209  0.000696  12.833333"
      ]
     },
     "execution_count": 8,
     "metadata": {},
     "output_type": "execute_result"
    }
   ],
   "source": [
    "# But you probably want it grouped most of the time\n",
    "groups = grouper.n_groups(3)\n",
    "group_names = ['cats','dogs','fish']\n",
    "MGMT.mean_speeds_by_group(groups=groups, \n",
    "                          group_names=group_names, \n",
    "                          min_frames=2)\n",
    "\n",
    "\n",
    "\n",
    "\n"
   ]
  },
  {
   "cell_type": "markdown",
   "id": "8102c009",
   "metadata": {},
   "source": [
    "**Rose plot dialogue**"
   ]
  },
  {
   "cell_type": "code",
   "execution_count": null,
   "id": "6758a549",
   "metadata": {
    "scrolled": false
   },
   "outputs": [],
   "source": [
    "#MGMT.experiments[0].timepoints['01:00:00:00'].list_of_worms[0].coords\n",
    "#make first frame 0,0 by subtracting the x and y. do to processive frames to get origin based data\n",
    "#rotional transformation to get real 'rose' plot. \n",
    "\n",
    "MGMT.track_worms_all_experiments.list_of_worms(track_across_timepoints=True) "
   ]
  },
  {
   "cell_type": "markdown",
   "id": "6f756f9d",
   "metadata": {},
   "source": [
    "**paralysis analysis**"
   ]
  },
  {
   "cell_type": "code",
   "execution_count": null,
   "id": "6d97d72c",
   "metadata": {},
   "outputs": [],
   "source": [
    "group_names = ['RB','NJ','JCC','N2']\n",
    "\n",
    "# paralysis_by_group, SEM_by_group = \n",
    "aldicarb_results = MGMT.paralysis_by_group(groups= MGMT.easy_group_maker(start=1, total=n_plates, pre='\\\\plate', n=4, post='\\\\'), group_names=group_names, max_mm_movement=0.15)\n",
    "\n",
    "print(aldicarb_results)\n",
    "aldicarb_results.to_csv(path_to_data+'\\\\my_results.csv')"
   ]
  },
  {
   "cell_type": "code",
   "execution_count": null,
   "id": "a9afdd78",
   "metadata": {},
   "outputs": [],
   "source": [
    "(ggplot(aldicarb_results, aes(x='time', y='mean', color='strain')) +\n",
    "geom_line())"
   ]
  }
 ],
 "metadata": {
  "kernelspec": {
   "display_name": "Python 3 (ipykernel)",
   "language": "python",
   "name": "python3"
  },
  "language_info": {
   "codemirror_mode": {
    "name": "ipython",
    "version": 3
   },
   "file_extension": ".py",
   "mimetype": "text/x-python",
   "name": "python",
   "nbconvert_exporter": "python",
   "pygments_lexer": "ipython3",
   "version": "3.8.12"
  }
 },
 "nbformat": 4,
 "nbformat_minor": 5
}
